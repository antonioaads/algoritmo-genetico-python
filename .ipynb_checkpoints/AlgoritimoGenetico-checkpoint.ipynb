{
 "cells": [
  {
   "cell_type": "markdown",
   "metadata": {},
   "source": [
    "# Algorítimo Genético"
   ]
  },
  {
   "cell_type": "markdown",
   "metadata": {},
   "source": [
    "Algorítimo Genético desenvolvido durante a disciplina de IA do CEFET-MG, curso de Engenharia da Computação.\n",
    "\n",
    "Alunos:\n",
    "- Antônio Sousa\n",
    "- Túlio Bittar"
   ]
  },
  {
   "cell_type": "markdown",
   "metadata": {},
   "source": [
    "## Exemplo de utilização do algorítimo"
   ]
  },
  {
   "cell_type": "code",
   "execution_count": 2,
   "metadata": {},
   "outputs": [
    {
     "name": "stdout",
     "output_type": "stream",
     "text": [
      "(Cromossomos:[-1.5900419794378333, -3.1434212807358275] f: -106.73231770909216 fNorm: 606.7323177090922 fAcm: 0.0010000000000000022)\n"
     ]
    }
   ],
   "source": [
    "import math\n",
    "from ga.ga import *\n",
    "limiteInferior = [-10, -10] \n",
    "limiteSuperior = [10, 10] \n",
    "tamanhoPopulacao = 1000\n",
    "taxaMutacao = 0.005\n",
    "iteracoes = 100\n",
    "\n",
    "# Função objetivo\n",
    "def funcaoObjetivo(cromArray):\n",
    "    x = cromArray[0]\n",
    "    y = cromArray[1]\n",
    "    score = math.sin(x) * math.exp(math.pow(1-math.cos(y),2)) + math.cos(y) * math.exp(math.pow(1-math.sin(x),2)) + math.pow((x-y),2)\n",
    "    return score\n",
    "\n",
    "# Função de Normalização\n",
    "def funcaoNorm(f):\n",
    "    return -f + 500\n",
    "\n",
    "# Função de Acm (fitness)\n",
    "def funcaoAcm(fNorm, somaNorm):\n",
    "    return fNorm/somaNorm\n",
    "\n",
    "def novaPopulacao(populacao, populacaoIntermediaria, tamanhoPopulacao):\n",
    "    juncaoPopulacao = populacao + populacaoIntermediaria\n",
    "    juncaoPopulacao = sorted(juncaoPopulacao)\n",
    "    novaPopulacao = juncaoPopulacao[0:tamanhoPopulacao]\n",
    "    \n",
    "    return novaPopulacao\n",
    "\n",
    "# print(funcaoBird([4.70104, 3.15294]))\n",
    "\n",
    "ga = Ga(limiteInferior, limiteSuperior, tamanhoPopulacao, funcaoObjetivo, funcaoNorm, funcaoAcm, novaPopulacao, taxaMutacao, iteracoes)\n",
    "populacaoFinal = ga.run()\n",
    "print(str(populacaoFinal[0]))"
   ]
  },
  {
   "cell_type": "markdown",
   "metadata": {},
   "source": [
    "## Premissas de desenvolvimento"
   ]
  },
  {
   "cell_type": "markdown",
   "metadata": {},
   "source": [
    "Durante o desenvolvimento deste algorítimo, o foco principal foi manter ele o mais genérico possível, para poder aplicar a diversas aplicações sem grandes alterações. Para isso, faz-se necessário a passagem de alguns parâmetros para a instância do GA, que serão definidas abaixo, na ordem em que devem ser passados:\n",
    "\n",
    "limiteInferior, limiteSuperior, tamanhoPopulacao, funcaoObjetivo, funcaoNorm, funcaoAcm, novaPopulacao, taxaMutacao, iteracoes\n",
    "- limiteInferior: Trata-se de um array que deve possuir os limites inferiores dos cromossomos dos indivíduos que serão criados\n",
    "- limiteSuperior: Trata-se de um array que deve possuir os limites superiores dos cromossomos dos indivíduos que serão criados (necessariamente do mesmo tamanho que o limiteInferior)\n",
    "- tamanhoPopulacao: Trata-se do tamanho da população que será gerada e manipulada\n",
    "- funcaoObjetivo: Trata-se de uma função que deverá se espelhar na função objetivo. Recebe como parâmetro um array correspondente aos cromossomos do indivíduo, que podem ser tratados internamente a função da maneira que for mais apropriada ao problema"
   ]
  }
 ],
 "metadata": {
  "kernelspec": {
   "display_name": "Python 3",
   "language": "python",
   "name": "python3"
  },
  "language_info": {
   "codemirror_mode": {
    "name": "ipython",
    "version": 3
   },
   "file_extension": ".py",
   "mimetype": "text/x-python",
   "name": "python",
   "nbconvert_exporter": "python",
   "pygments_lexer": "ipython3",
   "version": "3.6.9"
  }
 },
 "nbformat": 4,
 "nbformat_minor": 4
}
